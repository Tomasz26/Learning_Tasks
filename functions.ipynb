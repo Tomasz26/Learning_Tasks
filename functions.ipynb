{
 "cells": [
  {
   "cell_type": "markdown",
   "id": "5933e1e5-fac3-43ca-b28d-65a14f52a377",
   "metadata": {},
   "source": [
    "# Funcs in Python\n",
    "Functions are crucial in Python. To make one u need tu use \"def\" just like this:"
   ]
  },
  {
   "cell_type": "code",
   "execution_count": 1,
   "id": "7d065f10-6af3-46d8-9d32-add261024dce",
   "metadata": {},
   "outputs": [],
   "source": [
    "def some_function():\n",
    "    pass"
   ]
  },
  {
   "cell_type": "markdown",
   "id": "075fca6f-5833-4818-af36-edccce4d41fc",
   "metadata": {},
   "source": [
    "U can use \"pass\" to avoid filling func during coding process if u need to.\n",
    "Now, lets make function that really does something!"
   ]
  },
  {
   "cell_type": "code",
   "execution_count": 2,
   "id": "5851c8b2-69e0-414f-a887-32b619ed40c0",
   "metadata": {},
   "outputs": [],
   "source": [
    "def sum_function(a, b):\n",
    "    value = a + b\n",
    "    return value"
   ]
  },
  {
   "cell_type": "markdown",
   "id": "c889dd39-6c35-4557-9628-4fb5b43d4881",
   "metadata": {},
   "source": [
    "As u see we have two parameters a and b. to use this function u need to:"
   ]
  },
  {
   "cell_type": "code",
   "execution_count": 3,
   "id": "b0013468-667f-449e-afd6-e159503a932e",
   "metadata": {},
   "outputs": [
    {
     "name": "stdout",
     "output_type": "stream",
     "text": [
      "Function works, result is: 7\n"
     ]
    }
   ],
   "source": [
    "def sum_function(a, b):\n",
    "    value = a + b\n",
    "    return value\n",
    "\n",
    "summing = sum_function(2, 5)\n",
    "print(f\"Function works, result is: {summing}\")"
   ]
  },
  {
   "cell_type": "code",
   "execution_count": null,
   "id": "dd246d0b-174b-4299-ba45-547d85fd7e80",
   "metadata": {},
   "outputs": [],
   "source": []
  }
 ],
 "metadata": {
  "kernelspec": {
   "display_name": "Python 3 (ipykernel)",
   "language": "python",
   "name": "python3"
  },
  "language_info": {
   "codemirror_mode": {
    "name": "ipython",
    "version": 3
   },
   "file_extension": ".py",
   "mimetype": "text/x-python",
   "name": "python",
   "nbconvert_exporter": "python",
   "pygments_lexer": "ipython3",
   "version": "3.11.4"
  }
 },
 "nbformat": 4,
 "nbformat_minor": 5
}
